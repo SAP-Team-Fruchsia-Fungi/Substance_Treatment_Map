{
 "cells": [
  {
   "cell_type": "code",
   "execution_count": 160,
   "metadata": {},
   "outputs": [],
   "source": [
    "import csv, pgeocode\n",
    "from collections import defaultdict\n",
    "\n",
    "coords = {}\n",
    "\n",
    "with open('data/Substance Use Treatment.csv', encoding='utf-8') as f:\n",
    "    csv_reader = csv.DictReader(f)\n",
    "    \n",
    "    for line in csv_reader:\n",
    "        #Stores agency name and postal code\n",
    "        name = line['AGENCY_NAME']\n",
    "        address = line['ORGANIZATION_ADDRESS']\n",
    "        postal = address[len(address) - 7: len(address)]\n",
    "        \n",
    "        nomi = pgeocode.Nominatim('ca')\n",
    "        \n",
    "        coords.setdefault(name, {\n",
    "                'Longitude': 0,\n",
    "                'Latitude': 0\n",
    "        })\n",
    "        \n",
    "        #Sets Coordinates\n",
    "        coords[name]['Longitude'] = (nomi.query_postal_code(postal).longitude)\n",
    "        coords[name]['Latitude'] = (nomi.query_postal_code(postal).latitude)\n",
    "\n",
    "#Prints Location and Coordinates\n",
    "for place, value in coords.items():\n",
    "    #Stores coordinates in integers\n",
    "    a = coords[place]['Latitude']\n",
    "    b = coords[place]['Longitude']\n",
    "    \n",
    "    #Prints location name and coordinates\n",
    "    #print(place)\n",
    "    #print(f'\\t{a}, {b}')"
   ]
  },
  {
   "cell_type": "code",
   "execution_count": 161,
   "metadata": {},
   "outputs": [
    {
     "name": "stdout",
     "output_type": "stream",
     "text": [
      "3.0017152658662094\n",
      "22.641509433962266\n",
      "3.2590051457975986\n",
      "19.296740994854204\n",
      "12.950257289879932\n",
      "23.241852487135507\n",
      "5.4030874785591765\n",
      "3.516295025728988\n",
      "6.689536878216123\n"
     ]
    }
   ],
   "source": [
    "import csv, re\n",
    "from collections import defaultdict\n",
    "\n",
    "#Creates dictionaries\n",
    "homicide = {}\n",
    "cent = {}\n",
    "total = 0\n",
    "\n",
    "with open('data/Homicide.csv', encoding='utf-8') as f:\n",
    "    csv_reader = csv.DictReader(f)\n",
    "    \n",
    "    #Stores all the relevant data (location, id, coordinates)\n",
    "    for line in csv_reader:\n",
    "        division = line['Division']\n",
    "        geo = line['geometry']\n",
    "        ident = line['_id']\n",
    "        \n",
    "        homicide.setdefault(ident, {\n",
    "            'Location': 0,\n",
    "            'Latitude': 0,\n",
    "            'Longitude': 0\n",
    "        })\n",
    "        \n",
    "        #Stores which district crime happened in\n",
    "        if division == 'D41' or division == 'D42' or division == 'D43':\n",
    "            homicide[ident]['Location'] = \"Scarbourough\"\n",
    "        elif division == 'D22' or division == 'D23':\n",
    "            homicide[ident]['Location'] = \"Etobicoke\"\n",
    "        elif division == 'D31' or division == 'D32' or division == 'D33':\n",
    "            homicide[ident]['Location'] = \"North York\"\n",
    "        elif division == 'D54':\n",
    "            homicide[ident]['Location'] = \"East York\"\n",
    "        elif division == 'D12' or division == 'D31':\n",
    "            homicide[ident]['Location'] = \"Weston\"\n",
    "        elif division == 'D53':\n",
    "            homicide[ident]['Location'] = \"Forest Hill\"\n",
    "        elif division == 'D54':\n",
    "            homicide[ident]['Location'] = \"Leaside\"\n",
    "        elif division == 'D13':\n",
    "            homicide[ident]['Location'] = \"York Township\"\n",
    "        elif division == 'D11':\n",
    "            homicide[ident]['Location'] = \"Swansea\"\n",
    "        #else:\n",
    "            #print(division)\n",
    "\n",
    "        #Gathers coordinates of crime\n",
    "        x = re.search(r\"\\(([A-Za-z0-9.\\-,\\s]+)\\)\", geo)\n",
    "        coordinates = x.group(1).split(\", \")\n",
    "        \n",
    "        homicide[ident]['Latitude'] = coordinates[1]\n",
    "        homicide[ident]['Longitude'] = coordinates[0]\n",
    "        \n",
    "#Calculates average longitude and latitude of crimes per location\n",
    "for i, value in homicide.items():\n",
    "    loc = homicide[i]['Location']\n",
    "    cent.setdefault(loc, {\n",
    "        'Name': 0,\n",
    "        'Lat': 0,\n",
    "        'Long': 0,\n",
    "        'Count': 0,\n",
    "        'Percent': 0\n",
    "    }) \n",
    "    #print(center)\n",
    "    cent[loc]['Name'] = loc\n",
    "    cent[loc]['Lat'] += float(homicide[i]['Latitude'])\n",
    "    cent[loc]['Long'] += float(homicide[i]['Longitude'])\n",
    "    cent[loc]['Count'] += 1\n",
    "    total += 1\n",
    "        \n",
    "for loc, info in cent.items():\n",
    "    cent[loc]['Lat'] = cent[loc]['Lat']/cent[loc]['Count']\n",
    "    cent[loc]['Long'] = cent[loc]['Long']/cent[loc]['Count']\n",
    "    cent[loc]['Percent'] = cent[loc]['Count']/total * 100\n",
    "    #print(cent[loc]['Name'])\n",
    "    #print(cent[loc]['Lat']/cent[loc]['Count'])\n",
    "    #print(cent[loc]['Long']/cent[loc]['Count'])\n",
    "    print(cent[loc]['Percent'])\n",
    "        \n",
    "            "
   ]
  },
  {
   "cell_type": "code",
   "execution_count": 162,
   "metadata": {},
   "outputs": [
    {
     "data": {
      "application/vnd.jupyter.widget-view+json": {
       "model_id": "66bc6d8bb76b48c3be2c0d6916842cf5",
       "version_major": 2,
       "version_minor": 0
      },
      "text/plain": [
       "Map(center=[43.6487, -79.38544], controls=(ZoomControl(options=['position', 'zoom_in_text', 'zoom_in_title', '…"
      ]
     },
     "metadata": {},
     "output_type": "display_data"
    }
   ],
   "source": [
    "from ipyleaflet import Map, Marker, basemaps, Popup, Circle\n",
    "from ipywidgets import HTML\n",
    "\n",
    "#Creates map\n",
    "m = Map(center = (43.6487, -79.38544), zoom = 10, min_zoom = 1, max_zoom = 20, \n",
    "    basemap=basemaps.Stamen.Terrain)\n",
    "#m = Map(center = (43.6656, -79.383), zoom = 10, min_zoom = 1, max_zoom = 20)\n",
    "\n",
    "#Adds markers\n",
    "#https://ipyleaflet.readthedocs.io/en/latest/api_reference/popup.html\n",
    "for place, value in coords.items():\n",
    "    #Stores coordinates in integers\n",
    "    a = coords[place]['Latitude']\n",
    "    b = coords[place]['Longitude']\n",
    "    \n",
    "    #Adds all the markers\n",
    "    center = (a, b)\n",
    "    marker = Marker(location=center, draggable=False)\n",
    "    m.add_layer(marker);\n",
    "    \n",
    "    #Creates message\n",
    "    message = HTML()\n",
    "    message.value = place\n",
    "    \n",
    "    #Creates popup\n",
    "    popup = Popup(\n",
    "        location=center,\n",
    "        close_button=False,\n",
    "        auto_close=False,\n",
    "        close_on_escape_key=False\n",
    "    )\n",
    "    #Adds popup to layer and associates it with the message and marker\n",
    "    marker.popup = message\n",
    "    \n",
    "# Adds circle markers\n",
    "for loc, info in cent.items():\n",
    "    circle = Circle()\n",
    "    circle.location = (cent[loc]['Lat'], cent[loc]['Long'])\n",
    "    circle.radius = int(cent[loc]['Percent'] * 100)\n",
    "    circle.color = \"steelBlue\"\n",
    "    circle.fill_color = \"steelBlue\"\n",
    "    m.add_layer(circle)\n",
    "\n",
    "#Draws Map\n",
    "m"
   ]
  },
  {
   "cell_type": "code",
   "execution_count": null,
   "metadata": {},
   "outputs": [],
   "source": []
  },
  {
   "cell_type": "code",
   "execution_count": null,
   "metadata": {},
   "outputs": [],
   "source": []
  },
  {
   "cell_type": "code",
   "execution_count": 163,
   "metadata": {},
   "outputs": [
    {
     "ename": "NameError",
     "evalue": "name 'L' is not defined",
     "output_type": "error",
     "traceback": [
      "\u001b[1;31m---------------------------------------------------------------------------\u001b[0m",
      "\u001b[1;31mNameError\u001b[0m                                 Traceback (most recent call last)",
      "\u001b[1;32m<ipython-input-163-813a13b6d5f7>\u001b[0m in \u001b[0;36m<module>\u001b[1;34m\u001b[0m\n\u001b[1;32m----> 1\u001b[1;33m L.circle({lat: cent[loc]['Lat'], lng: cent[loc]['Long']}, {\n\u001b[0m\u001b[0;32m      2\u001b[0m         \u001b[0mcolor\u001b[0m\u001b[1;33m:\u001b[0m \u001b[1;34m'steelblue'\u001b[0m\u001b[1;33m,\u001b[0m\u001b[1;33m\u001b[0m\u001b[1;33m\u001b[0m\u001b[0m\n\u001b[0;32m      3\u001b[0m         \u001b[0mradius\u001b[0m\u001b[1;33m:\u001b[0m \u001b[1;36m500\u001b[0m\u001b[1;33m,\u001b[0m\u001b[1;33m\u001b[0m\u001b[1;33m\u001b[0m\u001b[0m\n\u001b[0;32m      4\u001b[0m         \u001b[0mfillColor\u001b[0m\u001b[1;33m:\u001b[0m \u001b[1;34m'steelblue'\u001b[0m\u001b[1;33m,\u001b[0m\u001b[1;33m\u001b[0m\u001b[1;33m\u001b[0m\u001b[0m\n\u001b[0;32m      5\u001b[0m         \u001b[0mopacity\u001b[0m\u001b[1;33m:\u001b[0m \u001b[1;36m0.5\u001b[0m\u001b[1;33m\u001b[0m\u001b[1;33m\u001b[0m\u001b[0m\n",
      "\u001b[1;31mNameError\u001b[0m: name 'L' is not defined"
     ]
    }
   ],
   "source": [
    "L.circle({lat: cent[loc]['Lat'], lng: cent[loc]['Long']}, {\n",
    "        color: 'steelblue',\n",
    "        radius: 500,\n",
    "        fillColor: 'steelblue',\n",
    "        opacity: 0.5\n",
    "    }).addTo(this.map)"
   ]
  }
 ],
 "metadata": {
  "kernelspec": {
   "display_name": "Python 3",
   "language": "python",
   "name": "python3"
  },
  "language_info": {
   "codemirror_mode": {
    "name": "ipython",
    "version": 3
   },
   "file_extension": ".py",
   "mimetype": "text/x-python",
   "name": "python",
   "nbconvert_exporter": "python",
   "pygments_lexer": "ipython3",
   "version": "3.8.5"
  }
 },
 "nbformat": 4,
 "nbformat_minor": 4
}
