{
 "cells": [
  {
   "cell_type": "code",
   "execution_count": 140,
   "metadata": {},
   "outputs": [
    {
     "name": "stdout",
     "output_type": "stream",
     "text": [
      "Toronto Mental Health and Addictions Access Point\n",
      "\t43.6656, -79.383\n",
      "Alcoholics Anonymous\n",
      "\t43.7135, -79.3887\n",
      "Toronto Drug Treatment Court\n",
      "\t43.6496, -79.3833\n",
      "Alpha House\n",
      "\t43.6803, -79.3538\n",
      "Bellwood Health Services\n",
      "\t43.8016, -79.3216\n",
      "Scarborough Hospital\n",
      "\t43.7612, -79.2707\n",
      "Salvation Army\n",
      "\t43.6736, -79.4035\n",
      "William Osler Health Centre\n",
      "\t43.7432, -79.5876\n",
      "St Michael's Hospital\n",
      "\t43.6513, -79.3756\n",
      "Good Shepherd Ministries\n",
      "\t43.6555, -79.3626\n",
      "Humber River Hospital\n",
      "\t43.7319, -79.4928\n",
      "Griffin Centre\n",
      "\t43.7694, -79.4921\n",
      "Jean Tweed Centre\n",
      "\t43.6256, -79.5231\n",
      "Hospital for Sick Children\n",
      "\t43.6564, -79.38600000000002\n",
      "Breakaway Addiction Services\n",
      "\t43.6383, -79.4301\n",
      "Overeaters Anonymous\n",
      "\t43.6736, -79.4035\n",
      "Regeneration Community Services\n",
      "\t43.6469, -79.4521\n",
      "Renascent\n",
      "\t43.6656, -79.383\n",
      "St Michael's Homes\n",
      "\t43.6555, -79.3626\n",
      "University Health Network, Toronto Western Hospital\n",
      "\t43.648, -79.4177\n",
      "YMCA of Greater Toronto\n",
      "\t43.6541, -79.3978\n",
      "Centre for Addiction and Mental Health\n",
      "\t43.648, -79.4177\n",
      "Toronto East General Hospital\n",
      "\t43.6872, -79.3368\n",
      "Anishnawbe Health Toronto\n",
      "\t43.6683, -79.4205\n",
      "Yonge Street Mission\n",
      "\t43.6572, -79.3783\n",
      "Society of St Vincent de Paul\n",
      "\t43.6572, -79.3783\n",
      "Warden Woods Community Centre\n",
      "\t43.7122, -79.2843\n",
      "Canadian Centre for Women's Education and Development\n",
      "\t43.7298, -79.2639\n",
      "Toronto. Hostel Services\n",
      "\t43.7319, -79.4928\n",
      "St Joseph's Health Centre\n",
      "\t43.6469, -79.4521\n",
      "JACS Toronto\n",
      "\t43.7535, -79.4472\n",
      "High Park Chiropractic and Integrated Health\n",
      "\t43.6512, -79.4828\n",
      "Yellow Brick Road Holistic Center, Your Path to Total Health\n",
      "\t43.6736, -79.4035\n",
      "Food Addicts in Recovery Anonymous - Toronto - Spadina Ave\n",
      "\t43.6629, -79.3987\n",
      "Ontario Addiction Treatment Centre - Bloor West Clinic\n",
      "\t43.6683, -79.4205\n",
      "Ontario Addiction Treatment Centre - Danforth\n",
      "\t43.6872, -79.3368\n"
     ]
    }
   ],
   "source": [
    "import csv, pgeocode\n",
    "from collections import defaultdict\n",
    "\n",
    "coords = {}\n",
    "\n",
    "with open('data/Substance Use Treatment.csv', encoding='utf-8') as f:\n",
    "    csv_reader = csv.DictReader(f)\n",
    "    \n",
    "    for line in csv_reader:\n",
    "        #Stores agency name and postal code\n",
    "        name = line['AGENCY_NAME']\n",
    "        address = line['ORGANIZATION_ADDRESS']\n",
    "        postal = address[len(address) - 7: len(address)]\n",
    "        \n",
    "        nomi = pgeocode.Nominatim('ca')\n",
    "        \n",
    "        coords.setdefault(name, {\n",
    "                'Longitude': 0,\n",
    "                'Latitude': 0\n",
    "        })\n",
    "        \n",
    "        #Sets Coordinates\n",
    "        coords[name]['Longitude'] = (nomi.query_postal_code(postal).longitude)\n",
    "        coords[name]['Latitude'] = (nomi.query_postal_code(postal).latitude)\n",
    "\n",
    "#Prints Location and Coordinates\n",
    "for place, value in coords.items():\n",
    "    #Stores coordinates in integers\n",
    "    a = coords[place]['Latitude']\n",
    "    b = coords[place]['Longitude']\n",
    "    \n",
    "    #Prints location name and coordinates\n",
    "    print(place)\n",
    "    print(f'\\t{a}, {b}')"
   ]
  },
  {
   "cell_type": "code",
   "execution_count": 148,
   "metadata": {},
   "outputs": [
    {
     "data": {
      "application/vnd.jupyter.widget-view+json": {
       "model_id": "5141f51c2145465da3721d74dbe339c9",
       "version_major": 2,
       "version_minor": 0
      },
      "text/plain": [
       "Map(center=[43.6487, -79.38544], controls=(ZoomControl(options=['position', 'zoom_in_text', 'zoom_in_title', '…"
      ]
     },
     "metadata": {},
     "output_type": "display_data"
    }
   ],
   "source": [
    "from ipyleaflet import Map, Marker, basemaps, Popup\n",
    "from ipywidgets import HTML\n",
    "\n",
    "#Creates map\n",
    "m = Map(center = (43.6487, -79.38544), zoom = 10, min_zoom = 1, max_zoom = 20, \n",
    "    basemap=basemaps.Stamen.Terrain)\n",
    "#m = Map(center = (43.6656, -79.383), zoom = 10, min_zoom = 1, max_zoom = 20)\n",
    "\n",
    "#Adds markers\n",
    "#https://ipyleaflet.readthedocs.io/en/latest/api_reference/popup.html\n",
    "for place, value in coords.items():\n",
    "    #Stores coordinates in integers\n",
    "    a = coords[place]['Latitude']\n",
    "    b = coords[place]['Longitude']\n",
    "    \n",
    "    #Adds all the markers\n",
    "    center = (a, b)\n",
    "    marker = Marker(location=center, draggable=False)\n",
    "    m.add_layer(marker);\n",
    "    \n",
    "    #Creates message\n",
    "    message = HTML()\n",
    "    message.value = place\n",
    "    \n",
    "    #Creates popup\n",
    "    popup = Popup(\n",
    "        location=center,\n",
    "        close_button=False,\n",
    "        auto_close=False,\n",
    "        close_on_escape_key=False\n",
    "    )\n",
    "    #Adds popup to layer and associates it with the message and marker\n",
    "    marker.popup = message\n",
    "    \n",
    "#Draws Map\n",
    "m"
   ]
  },
  {
   "cell_type": "code",
   "execution_count": null,
   "metadata": {},
   "outputs": [],
   "source": []
  },
  {
   "cell_type": "code",
   "execution_count": 142,
   "metadata": {},
   "outputs": [
    {
     "data": {
      "application/vnd.jupyter.widget-view+json": {
       "model_id": "74e11580f7b34fd982b34805674c93d2",
       "version_major": 2,
       "version_minor": 0
      },
      "text/plain": [
       "Map(center=[52.204793, 360.121558], controls=(ZoomControl(options=['position', 'zoom_in_text', 'zoom_in_title'…"
      ]
     },
     "metadata": {},
     "output_type": "display_data"
    }
   ],
   "source": [
    "from ipyleaflet import Map, Marker, basemaps, basemap_to_tiles\n",
    "\n",
    "m = Map(\n",
    "    basemap=basemap_to_tiles(basemaps.NASAGIBS.ModisTerraTrueColorCR, \"2017-04-08\"),\n",
    "    center=(52.204793, 360.121558),\n",
    "    zoom=4\n",
    ")\n",
    "\n",
    "m.add_layer(Marker(location=(52.204793, 360.121558)))\n",
    "\n",
    "m\n"
   ]
  },
  {
   "cell_type": "code",
   "execution_count": null,
   "metadata": {},
   "outputs": [],
   "source": []
  }
 ],
 "metadata": {
  "kernelspec": {
   "display_name": "Python 3",
   "language": "python",
   "name": "python3"
  },
  "language_info": {
   "codemirror_mode": {
    "name": "ipython",
    "version": 3
   },
   "file_extension": ".py",
   "mimetype": "text/x-python",
   "name": "python",
   "nbconvert_exporter": "python",
   "pygments_lexer": "ipython3",
   "version": "3.8.5"
  }
 },
 "nbformat": 4,
 "nbformat_minor": 4
}
